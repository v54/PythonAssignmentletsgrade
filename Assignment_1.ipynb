{
  "nbformat": 4,
  "nbformat_minor": 0,
  "metadata": {
    "colab": {
      "name": "Assignment 1.ipynb",
      "provenance": [],
      "collapsed_sections": []
    },
    "kernelspec": {
      "name": "python3",
      "display_name": "Python 3"
    }
  },
  "cells": [
    {
      "cell_type": "code",
      "metadata": {
        "colab": {
          "base_uri": "https://localhost:8080/"
        },
        "id": "s1Z17_zDcghK",
        "outputId": "cff74ebd-a088-44c1-8681-bf6eb8357ad5"
      },
      "source": [
        "my_slice_list= [\"v\", \"i\", \"s\", \"h\", \"n\", \"u\"]\r\n",
        "print(my_slice_list[2:4])"
      ],
      "execution_count": null,
      "outputs": [
        {
          "output_type": "stream",
          "text": [
            "['s', 'h']\n"
          ],
          "name": "stdout"
        }
      ]
    },
    {
      "cell_type": "markdown",
      "metadata": {
        "id": "74CZYVjHdTLw"
      },
      "source": [
        "5 example using list in built-in-function\r\n"
      ]
    },
    {
      "cell_type": "markdown",
      "metadata": {
        "id": "G0bXjv74mD-Y"
      },
      "source": [
        "slice lists in python"
      ]
    },
    {
      "cell_type": "code",
      "metadata": {
        "colab": {
          "base_uri": "https://localhost:8080/"
        },
        "id": "xq-9sqV9dbhR",
        "outputId": "5879b7a8-95cc-4a41-84d2-15e249905eaf"
      },
      "source": [
        "my_add_list= [\"v\", \"i\", \"s\", \"h\", \"n\", \"u\"]\r\n",
        "my_add_list.append(\"k\") \r\n",
        "#append takes exactly one arugument\r\n",
        "print(my_add_list)\r\n",
        "#you can add more items using extend inbuilt funnction\r\n",
        "my_add_list.extend([\"k\", \"r\"])\r\n",
        "print(my_add_list)\r\n"
      ],
      "execution_count": null,
      "outputs": [
        {
          "output_type": "stream",
          "text": [
            "['v', 'i', 's', 'h', 'n', 'u', 'k']\n",
            "['v', 'i', 's', 'h', 'n', 'u', 'k', 'k', 'r']\n"
          ],
          "name": "stdout"
        }
      ]
    },
    {
      "cell_type": "markdown",
      "metadata": {
        "id": "jbwkKzPOfcsO"
      },
      "source": [
        " remove element from list\r\n"
      ]
    },
    {
      "cell_type": "code",
      "metadata": {
        "colab": {
          "base_uri": "https://localhost:8080/"
        },
        "id": "rR3B4W9gf3Gg",
        "outputId": "c9288a32-5a25-4b62-8691-7c1dfb148a89"
      },
      "source": [
        "my_remove_list= [\"v\", \"i\", \"s\", \"h\", \"n\", \"u\"]\r\n",
        "my_remove_list.remove(\"u\")\r\n",
        "print(my_remove_list)\r\n"
      ],
      "execution_count": null,
      "outputs": [
        {
          "output_type": "stream",
          "text": [
            "['v', 'i', 's', 'h', 'n']\n"
          ],
          "name": "stdout"
        }
      ]
    },
    {
      "cell_type": "markdown",
      "metadata": {
        "id": "Xl3g3KPvgU2s"
      },
      "source": [
        "we can test if an item exist in a list using in keyword"
      ]
    },
    {
      "cell_type": "code",
      "metadata": {
        "colab": {
          "base_uri": "https://localhost:8080/"
        },
        "id": "qLCiofmXgvME",
        "outputId": "64d7266e-e58a-405a-89a9-1653f97a8b71"
      },
      "source": [
        "my_check_list= [\"v\", \"i\", \"s\", \"h\", \"n\", \"u\"]\r\n",
        "print(\"v\" in my_check_list)"
      ],
      "execution_count": null,
      "outputs": [
        {
          "output_type": "stream",
          "text": [
            "True\n"
          ],
          "name": "stdout"
        }
      ]
    },
    {
      "cell_type": "markdown",
      "metadata": {
        "id": "-9wi8lBvg7WK"
      },
      "source": [
        "reverse a list \r\n"
      ]
    },
    {
      "cell_type": "code",
      "metadata": {
        "colab": {
          "base_uri": "https://localhost:8080/"
        },
        "id": "Xyh9YCrThOPk",
        "outputId": "07f8911c-4532-49cf-c5dd-5ec05cd6bd26"
      },
      "source": [
        "my_reverse_list= [\"v\", \"i\", \"s\", \"h\", \"n\", \"u\"]\r\n",
        "my_reverse_list.reverse()\r\n",
        "print(my_reverse_list)"
      ],
      "execution_count": null,
      "outputs": [
        {
          "output_type": "stream",
          "text": [
            "['u', 'n', 'h', 's', 'i', 'v']\n"
          ],
          "name": "stdout"
        }
      ]
    },
    {
      "cell_type": "markdown",
      "metadata": {
        "id": "arw5sVZbhlZ1"
      },
      "source": [
        "changing an item inside the list"
      ]
    },
    {
      "cell_type": "code",
      "metadata": {
        "colab": {
          "base_uri": "https://localhost:8080/"
        },
        "id": "EMk_r8ySkJ9p",
        "outputId": "401e957f-1f4f-4513-da33-504c20c4dd72"
      },
      "source": [
        "my_change_list= [\"b\", \"i\", \"s\", \"h\", \"n\", \"u\"]\r\n",
        "my_change_list[0] = \"v\"\r\n",
        "print(my_change_list)"
      ],
      "execution_count": null,
      "outputs": [
        {
          "output_type": "stream",
          "text": [
            "['v', 'i', 's', 'h', 'n', 'u']\n"
          ],
          "name": "stdout"
        }
      ]
    },
    {
      "cell_type": "markdown",
      "metadata": {
        "id": "eQFfZCjjlhEA"
      },
      "source": [
        "5 example using dictionary built-in-function"
      ]
    },
    {
      "cell_type": "markdown",
      "metadata": {
        "id": "8QIaa5NFmIX5"
      },
      "source": [
        "changing dictionary elements\r\n"
      ]
    },
    {
      "cell_type": "code",
      "metadata": {
        "colab": {
          "base_uri": "https://localhost:8080/"
        },
        "id": "Y1RWjDmAmYQR",
        "outputId": "0f32095e-ce5c-4ef1-bd13-210377e8bb31"
      },
      "source": [
        "my_profile= {\"name\": \"vishnu\", \"age\":\"24\"}\r\n",
        "my_profile[\"age\"] = \"23\"\r\n",
        "print(my_profile)"
      ],
      "execution_count": null,
      "outputs": [
        {
          "output_type": "stream",
          "text": [
            "{'name': 'vishnu', 'age': '23'}\n"
          ],
          "name": "stdout"
        }
      ]
    },
    {
      "cell_type": "markdown",
      "metadata": {
        "id": "Y_ZkEl5hmzgZ"
      },
      "source": [
        "adding dictionary elements"
      ]
    },
    {
      "cell_type": "code",
      "metadata": {
        "colab": {
          "base_uri": "https://localhost:8080/"
        },
        "id": "pjjmv4aDm4cS",
        "outputId": "72803380-de25-44e4-de55-a17eb6b2701b"
      },
      "source": [
        "Adding_my_profile= {\"name\": \"vishnu\", \"age\":\"24\"}\r\n",
        "Adding_my_profile[\"address\"]= \"coimbatore\"\r\n",
        "print(Adding_my_profile)"
      ],
      "execution_count": null,
      "outputs": [
        {
          "output_type": "stream",
          "text": [
            "{'name': 'vishnu', 'age': '24', 'address': 'coimbatore'}\n"
          ],
          "name": "stdout"
        }
      ]
    },
    {
      "cell_type": "markdown",
      "metadata": {
        "id": "2oalad2MnSJE"
      },
      "source": [
        "remove particular item from the dictionary\r\n"
      ]
    },
    {
      "cell_type": "code",
      "metadata": {
        "colab": {
          "base_uri": "https://localhost:8080/"
        },
        "id": "kJxENg8Kn9UI",
        "outputId": "ec784776-a25a-4771-ea32-9db8175279b6"
      },
      "source": [
        "Numbers= {1:2, 2:3, 3:4, 4:5, 5:6, 6:7}\r\n",
        "Numbers.pop(1)\r\n",
        "print(Numbers)"
      ],
      "execution_count": null,
      "outputs": [
        {
          "output_type": "stream",
          "text": [
            "{2: 3, 3: 4, 4: 5, 5: 6, 6: 7}\n"
          ],
          "name": "stdout"
        }
      ]
    },
    {
      "cell_type": "markdown",
      "metadata": {
        "id": "lK9tfekFoVUV"
      },
      "source": [
        "remove an arbitrary item "
      ]
    },
    {
      "cell_type": "code",
      "metadata": {
        "colab": {
          "base_uri": "https://localhost:8080/"
        },
        "id": "oxflvzAXoeTD",
        "outputId": "51472aec-c1b0-4391-a5c4-9143861fb0b0"
      },
      "source": [
        "Numbers= {1:2, 2:3, 3:4, 4:5, 5:6, 6:7}\r\n",
        "Numbers.popitem()\r\n",
        "print(Numbers)"
      ],
      "execution_count": null,
      "outputs": [
        {
          "output_type": "stream",
          "text": [
            "{1: 2, 2: 3, 3: 4, 4: 5, 5: 6}\n"
          ],
          "name": "stdout"
        }
      ]
    },
    {
      "cell_type": "markdown",
      "metadata": {
        "id": "i6l7-vBjo8TQ"
      },
      "source": [
        "remove all items"
      ]
    },
    {
      "cell_type": "code",
      "metadata": {
        "colab": {
          "base_uri": "https://localhost:8080/"
        },
        "id": "Z9_tPgNNpCxO",
        "outputId": "b3829817-8543-4688-9697-52da7106d631"
      },
      "source": [
        "Numbers= {1:2, 2:3, 3:4, 4:5, 5:6, 6:7}\r\n",
        "Numbers.clear()\r\n",
        "print(Numbers)"
      ],
      "execution_count": null,
      "outputs": [
        {
          "output_type": "stream",
          "text": [
            "{}\n"
          ],
          "name": "stdout"
        }
      ]
    },
    {
      "cell_type": "markdown",
      "metadata": {
        "id": "igyHuYzIplmA"
      },
      "source": [
        "copy the same dictionary items \r\n"
      ]
    },
    {
      "cell_type": "code",
      "metadata": {
        "colab": {
          "base_uri": "https://localhost:8080/"
        },
        "id": "N_D7uc7Spo2p",
        "outputId": "e50ff53f-e982-4234-f87b-d3b93ee1b9d0"
      },
      "source": [
        "new_original = {1:2, 2:3}\r\n",
        "new = new_original.copy()\r\n",
        "\r\n",
        "print(\"original: \", new_original)\r\n",
        "print(\"copy: \", new)"
      ],
      "execution_count": null,
      "outputs": [
        {
          "output_type": "stream",
          "text": [
            "original:  {1: 2, 2: 3}\n",
            "copy:  {1: 2, 2: 3}\n"
          ],
          "name": "stdout"
        }
      ]
    },
    {
      "cell_type": "markdown",
      "metadata": {
        "id": "v5mxX2vfr4q2"
      },
      "source": [
        ""
      ]
    }
  ]
}